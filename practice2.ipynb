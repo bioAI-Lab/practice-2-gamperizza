{
  "nbformat": 4,
  "nbformat_minor": 0,
  "metadata": {
    "colab": {
      "provenance": []
    },
    "kernelspec": {
      "name": "python3",
      "display_name": "Python 3"
    },
    "language_info": {
      "name": "python"
    },
    "widgets": {
      "application/vnd.jupyter.widget-state+json": {
        "2612298635cb48869e6fe4ff4899429a": {
          "model_module": "@jupyter-widgets/controls",
          "model_name": "HBoxModel",
          "model_module_version": "1.5.0",
          "state": {
            "_dom_classes": [],
            "_model_module": "@jupyter-widgets/controls",
            "_model_module_version": "1.5.0",
            "_model_name": "HBoxModel",
            "_view_count": null,
            "_view_module": "@jupyter-widgets/controls",
            "_view_module_version": "1.5.0",
            "_view_name": "HBoxView",
            "box_style": "",
            "children": [
              "IPY_MODEL_90dca648479e4c7b82d63e12a8e05173",
              "IPY_MODEL_963c45fb522e4d6fb6bf8bfacc80ba9b",
              "IPY_MODEL_cdb3b9e5b7a248729024c7ae6d9dddd2"
            ],
            "layout": "IPY_MODEL_f3ff67d5487341e386c57365e57edbf0"
          }
        },
        "90dca648479e4c7b82d63e12a8e05173": {
          "model_module": "@jupyter-widgets/controls",
          "model_name": "HTMLModel",
          "model_module_version": "1.5.0",
          "state": {
            "_dom_classes": [],
            "_model_module": "@jupyter-widgets/controls",
            "_model_module_version": "1.5.0",
            "_model_name": "HTMLModel",
            "_view_count": null,
            "_view_module": "@jupyter-widgets/controls",
            "_view_module_version": "1.5.0",
            "_view_name": "HTMLView",
            "description": "",
            "description_tooltip": null,
            "layout": "IPY_MODEL_8e1885eed834421b967a4389e6840f0f",
            "placeholder": "​",
            "style": "IPY_MODEL_db189fe678e24a43896d0dfdab98cda3",
            "value": "Retrieving SummaryDoc documents: 100%"
          }
        },
        "963c45fb522e4d6fb6bf8bfacc80ba9b": {
          "model_module": "@jupyter-widgets/controls",
          "model_name": "FloatProgressModel",
          "model_module_version": "1.5.0",
          "state": {
            "_dom_classes": [],
            "_model_module": "@jupyter-widgets/controls",
            "_model_module_version": "1.5.0",
            "_model_name": "FloatProgressModel",
            "_view_count": null,
            "_view_module": "@jupyter-widgets/controls",
            "_view_module_version": "1.5.0",
            "_view_name": "ProgressView",
            "bar_style": "success",
            "description": "",
            "description_tooltip": null,
            "layout": "IPY_MODEL_70cf461989234298810a00781abcd2ef",
            "max": 6,
            "min": 0,
            "orientation": "horizontal",
            "style": "IPY_MODEL_04876bf2352e463a8f0b6ed3cb536f1a",
            "value": 6
          }
        },
        "cdb3b9e5b7a248729024c7ae6d9dddd2": {
          "model_module": "@jupyter-widgets/controls",
          "model_name": "HTMLModel",
          "model_module_version": "1.5.0",
          "state": {
            "_dom_classes": [],
            "_model_module": "@jupyter-widgets/controls",
            "_model_module_version": "1.5.0",
            "_model_name": "HTMLModel",
            "_view_count": null,
            "_view_module": "@jupyter-widgets/controls",
            "_view_module_version": "1.5.0",
            "_view_name": "HTMLView",
            "description": "",
            "description_tooltip": null,
            "layout": "IPY_MODEL_91e2c8517af7417abd7693621ad29a9d",
            "placeholder": "​",
            "style": "IPY_MODEL_ed1653ab0e124f439bb6b92a2dc2fd10",
            "value": " 6/6 [00:00&lt;00:00, 250.10it/s]"
          }
        },
        "f3ff67d5487341e386c57365e57edbf0": {
          "model_module": "@jupyter-widgets/base",
          "model_name": "LayoutModel",
          "model_module_version": "1.2.0",
          "state": {
            "_model_module": "@jupyter-widgets/base",
            "_model_module_version": "1.2.0",
            "_model_name": "LayoutModel",
            "_view_count": null,
            "_view_module": "@jupyter-widgets/base",
            "_view_module_version": "1.2.0",
            "_view_name": "LayoutView",
            "align_content": null,
            "align_items": null,
            "align_self": null,
            "border": null,
            "bottom": null,
            "display": null,
            "flex": null,
            "flex_flow": null,
            "grid_area": null,
            "grid_auto_columns": null,
            "grid_auto_flow": null,
            "grid_auto_rows": null,
            "grid_column": null,
            "grid_gap": null,
            "grid_row": null,
            "grid_template_areas": null,
            "grid_template_columns": null,
            "grid_template_rows": null,
            "height": null,
            "justify_content": null,
            "justify_items": null,
            "left": null,
            "margin": null,
            "max_height": null,
            "max_width": null,
            "min_height": null,
            "min_width": null,
            "object_fit": null,
            "object_position": null,
            "order": null,
            "overflow": null,
            "overflow_x": null,
            "overflow_y": null,
            "padding": null,
            "right": null,
            "top": null,
            "visibility": null,
            "width": null
          }
        },
        "8e1885eed834421b967a4389e6840f0f": {
          "model_module": "@jupyter-widgets/base",
          "model_name": "LayoutModel",
          "model_module_version": "1.2.0",
          "state": {
            "_model_module": "@jupyter-widgets/base",
            "_model_module_version": "1.2.0",
            "_model_name": "LayoutModel",
            "_view_count": null,
            "_view_module": "@jupyter-widgets/base",
            "_view_module_version": "1.2.0",
            "_view_name": "LayoutView",
            "align_content": null,
            "align_items": null,
            "align_self": null,
            "border": null,
            "bottom": null,
            "display": null,
            "flex": null,
            "flex_flow": null,
            "grid_area": null,
            "grid_auto_columns": null,
            "grid_auto_flow": null,
            "grid_auto_rows": null,
            "grid_column": null,
            "grid_gap": null,
            "grid_row": null,
            "grid_template_areas": null,
            "grid_template_columns": null,
            "grid_template_rows": null,
            "height": null,
            "justify_content": null,
            "justify_items": null,
            "left": null,
            "margin": null,
            "max_height": null,
            "max_width": null,
            "min_height": null,
            "min_width": null,
            "object_fit": null,
            "object_position": null,
            "order": null,
            "overflow": null,
            "overflow_x": null,
            "overflow_y": null,
            "padding": null,
            "right": null,
            "top": null,
            "visibility": null,
            "width": null
          }
        },
        "db189fe678e24a43896d0dfdab98cda3": {
          "model_module": "@jupyter-widgets/controls",
          "model_name": "DescriptionStyleModel",
          "model_module_version": "1.5.0",
          "state": {
            "_model_module": "@jupyter-widgets/controls",
            "_model_module_version": "1.5.0",
            "_model_name": "DescriptionStyleModel",
            "_view_count": null,
            "_view_module": "@jupyter-widgets/base",
            "_view_module_version": "1.2.0",
            "_view_name": "StyleView",
            "description_width": ""
          }
        },
        "70cf461989234298810a00781abcd2ef": {
          "model_module": "@jupyter-widgets/base",
          "model_name": "LayoutModel",
          "model_module_version": "1.2.0",
          "state": {
            "_model_module": "@jupyter-widgets/base",
            "_model_module_version": "1.2.0",
            "_model_name": "LayoutModel",
            "_view_count": null,
            "_view_module": "@jupyter-widgets/base",
            "_view_module_version": "1.2.0",
            "_view_name": "LayoutView",
            "align_content": null,
            "align_items": null,
            "align_self": null,
            "border": null,
            "bottom": null,
            "display": null,
            "flex": null,
            "flex_flow": null,
            "grid_area": null,
            "grid_auto_columns": null,
            "grid_auto_flow": null,
            "grid_auto_rows": null,
            "grid_column": null,
            "grid_gap": null,
            "grid_row": null,
            "grid_template_areas": null,
            "grid_template_columns": null,
            "grid_template_rows": null,
            "height": null,
            "justify_content": null,
            "justify_items": null,
            "left": null,
            "margin": null,
            "max_height": null,
            "max_width": null,
            "min_height": null,
            "min_width": null,
            "object_fit": null,
            "object_position": null,
            "order": null,
            "overflow": null,
            "overflow_x": null,
            "overflow_y": null,
            "padding": null,
            "right": null,
            "top": null,
            "visibility": null,
            "width": null
          }
        },
        "04876bf2352e463a8f0b6ed3cb536f1a": {
          "model_module": "@jupyter-widgets/controls",
          "model_name": "ProgressStyleModel",
          "model_module_version": "1.5.0",
          "state": {
            "_model_module": "@jupyter-widgets/controls",
            "_model_module_version": "1.5.0",
            "_model_name": "ProgressStyleModel",
            "_view_count": null,
            "_view_module": "@jupyter-widgets/base",
            "_view_module_version": "1.2.0",
            "_view_name": "StyleView",
            "bar_color": null,
            "description_width": ""
          }
        },
        "91e2c8517af7417abd7693621ad29a9d": {
          "model_module": "@jupyter-widgets/base",
          "model_name": "LayoutModel",
          "model_module_version": "1.2.0",
          "state": {
            "_model_module": "@jupyter-widgets/base",
            "_model_module_version": "1.2.0",
            "_model_name": "LayoutModel",
            "_view_count": null,
            "_view_module": "@jupyter-widgets/base",
            "_view_module_version": "1.2.0",
            "_view_name": "LayoutView",
            "align_content": null,
            "align_items": null,
            "align_self": null,
            "border": null,
            "bottom": null,
            "display": null,
            "flex": null,
            "flex_flow": null,
            "grid_area": null,
            "grid_auto_columns": null,
            "grid_auto_flow": null,
            "grid_auto_rows": null,
            "grid_column": null,
            "grid_gap": null,
            "grid_row": null,
            "grid_template_areas": null,
            "grid_template_columns": null,
            "grid_template_rows": null,
            "height": null,
            "justify_content": null,
            "justify_items": null,
            "left": null,
            "margin": null,
            "max_height": null,
            "max_width": null,
            "min_height": null,
            "min_width": null,
            "object_fit": null,
            "object_position": null,
            "order": null,
            "overflow": null,
            "overflow_x": null,
            "overflow_y": null,
            "padding": null,
            "right": null,
            "top": null,
            "visibility": null,
            "width": null
          }
        },
        "ed1653ab0e124f439bb6b92a2dc2fd10": {
          "model_module": "@jupyter-widgets/controls",
          "model_name": "DescriptionStyleModel",
          "model_module_version": "1.5.0",
          "state": {
            "_model_module": "@jupyter-widgets/controls",
            "_model_module_version": "1.5.0",
            "_model_name": "DescriptionStyleModel",
            "_view_count": null,
            "_view_module": "@jupyter-widgets/base",
            "_view_module_version": "1.2.0",
            "_view_name": "StyleView",
            "description_width": ""
          }
        },
        "2657ef1c50a64a18951941870043c61a": {
          "model_module": "@jupyter-widgets/controls",
          "model_name": "HBoxModel",
          "model_module_version": "1.5.0",
          "state": {
            "_dom_classes": [],
            "_model_module": "@jupyter-widgets/controls",
            "_model_module_version": "1.5.0",
            "_model_name": "HBoxModel",
            "_view_count": null,
            "_view_module": "@jupyter-widgets/controls",
            "_view_module_version": "1.5.0",
            "_view_name": "HBoxView",
            "box_style": "",
            "children": [
              "IPY_MODEL_c29baee727494a6ebce130a9efbdb648",
              "IPY_MODEL_ada45a774b9f41b0aa09fa37b1c968f4",
              "IPY_MODEL_019bf304dbd2459296dfce64b16ab7b4"
            ],
            "layout": "IPY_MODEL_1e0b1b8a334647fbb3b7ff04edd0a87a"
          }
        },
        "c29baee727494a6ebce130a9efbdb648": {
          "model_module": "@jupyter-widgets/controls",
          "model_name": "HTMLModel",
          "model_module_version": "1.5.0",
          "state": {
            "_dom_classes": [],
            "_model_module": "@jupyter-widgets/controls",
            "_model_module_version": "1.5.0",
            "_model_name": "HTMLModel",
            "_view_count": null,
            "_view_module": "@jupyter-widgets/controls",
            "_view_module_version": "1.5.0",
            "_view_name": "HTMLView",
            "description": "",
            "description_tooltip": null,
            "layout": "IPY_MODEL_3a0a3ec4bcb24f1dac9deff325785126",
            "placeholder": "​",
            "style": "IPY_MODEL_90ef13528303482099053bfd91c12bbc",
            "value": "Retrieving MaterialsDoc documents: 100%"
          }
        },
        "ada45a774b9f41b0aa09fa37b1c968f4": {
          "model_module": "@jupyter-widgets/controls",
          "model_name": "FloatProgressModel",
          "model_module_version": "1.5.0",
          "state": {
            "_dom_classes": [],
            "_model_module": "@jupyter-widgets/controls",
            "_model_module_version": "1.5.0",
            "_model_name": "FloatProgressModel",
            "_view_count": null,
            "_view_module": "@jupyter-widgets/controls",
            "_view_module_version": "1.5.0",
            "_view_name": "ProgressView",
            "bar_style": "success",
            "description": "",
            "description_tooltip": null,
            "layout": "IPY_MODEL_26aa50ebaefb46ecb24d6d6999ab6de8",
            "max": 1,
            "min": 0,
            "orientation": "horizontal",
            "style": "IPY_MODEL_955601e60280479984ccfe700b6b386a",
            "value": 1
          }
        },
        "019bf304dbd2459296dfce64b16ab7b4": {
          "model_module": "@jupyter-widgets/controls",
          "model_name": "HTMLModel",
          "model_module_version": "1.5.0",
          "state": {
            "_dom_classes": [],
            "_model_module": "@jupyter-widgets/controls",
            "_model_module_version": "1.5.0",
            "_model_name": "HTMLModel",
            "_view_count": null,
            "_view_module": "@jupyter-widgets/controls",
            "_view_module_version": "1.5.0",
            "_view_name": "HTMLView",
            "description": "",
            "description_tooltip": null,
            "layout": "IPY_MODEL_c073341db6074f4a879fceb7a13e1505",
            "placeholder": "​",
            "style": "IPY_MODEL_b1b1b1e1d2f347bbac60e1adfc01d69d",
            "value": " 1/1 [00:00&lt;00:00, 56.78it/s]"
          }
        },
        "1e0b1b8a334647fbb3b7ff04edd0a87a": {
          "model_module": "@jupyter-widgets/base",
          "model_name": "LayoutModel",
          "model_module_version": "1.2.0",
          "state": {
            "_model_module": "@jupyter-widgets/base",
            "_model_module_version": "1.2.0",
            "_model_name": "LayoutModel",
            "_view_count": null,
            "_view_module": "@jupyter-widgets/base",
            "_view_module_version": "1.2.0",
            "_view_name": "LayoutView",
            "align_content": null,
            "align_items": null,
            "align_self": null,
            "border": null,
            "bottom": null,
            "display": null,
            "flex": null,
            "flex_flow": null,
            "grid_area": null,
            "grid_auto_columns": null,
            "grid_auto_flow": null,
            "grid_auto_rows": null,
            "grid_column": null,
            "grid_gap": null,
            "grid_row": null,
            "grid_template_areas": null,
            "grid_template_columns": null,
            "grid_template_rows": null,
            "height": null,
            "justify_content": null,
            "justify_items": null,
            "left": null,
            "margin": null,
            "max_height": null,
            "max_width": null,
            "min_height": null,
            "min_width": null,
            "object_fit": null,
            "object_position": null,
            "order": null,
            "overflow": null,
            "overflow_x": null,
            "overflow_y": null,
            "padding": null,
            "right": null,
            "top": null,
            "visibility": null,
            "width": null
          }
        },
        "3a0a3ec4bcb24f1dac9deff325785126": {
          "model_module": "@jupyter-widgets/base",
          "model_name": "LayoutModel",
          "model_module_version": "1.2.0",
          "state": {
            "_model_module": "@jupyter-widgets/base",
            "_model_module_version": "1.2.0",
            "_model_name": "LayoutModel",
            "_view_count": null,
            "_view_module": "@jupyter-widgets/base",
            "_view_module_version": "1.2.0",
            "_view_name": "LayoutView",
            "align_content": null,
            "align_items": null,
            "align_self": null,
            "border": null,
            "bottom": null,
            "display": null,
            "flex": null,
            "flex_flow": null,
            "grid_area": null,
            "grid_auto_columns": null,
            "grid_auto_flow": null,
            "grid_auto_rows": null,
            "grid_column": null,
            "grid_gap": null,
            "grid_row": null,
            "grid_template_areas": null,
            "grid_template_columns": null,
            "grid_template_rows": null,
            "height": null,
            "justify_content": null,
            "justify_items": null,
            "left": null,
            "margin": null,
            "max_height": null,
            "max_width": null,
            "min_height": null,
            "min_width": null,
            "object_fit": null,
            "object_position": null,
            "order": null,
            "overflow": null,
            "overflow_x": null,
            "overflow_y": null,
            "padding": null,
            "right": null,
            "top": null,
            "visibility": null,
            "width": null
          }
        },
        "90ef13528303482099053bfd91c12bbc": {
          "model_module": "@jupyter-widgets/controls",
          "model_name": "DescriptionStyleModel",
          "model_module_version": "1.5.0",
          "state": {
            "_model_module": "@jupyter-widgets/controls",
            "_model_module_version": "1.5.0",
            "_model_name": "DescriptionStyleModel",
            "_view_count": null,
            "_view_module": "@jupyter-widgets/base",
            "_view_module_version": "1.2.0",
            "_view_name": "StyleView",
            "description_width": ""
          }
        },
        "26aa50ebaefb46ecb24d6d6999ab6de8": {
          "model_module": "@jupyter-widgets/base",
          "model_name": "LayoutModel",
          "model_module_version": "1.2.0",
          "state": {
            "_model_module": "@jupyter-widgets/base",
            "_model_module_version": "1.2.0",
            "_model_name": "LayoutModel",
            "_view_count": null,
            "_view_module": "@jupyter-widgets/base",
            "_view_module_version": "1.2.0",
            "_view_name": "LayoutView",
            "align_content": null,
            "align_items": null,
            "align_self": null,
            "border": null,
            "bottom": null,
            "display": null,
            "flex": null,
            "flex_flow": null,
            "grid_area": null,
            "grid_auto_columns": null,
            "grid_auto_flow": null,
            "grid_auto_rows": null,
            "grid_column": null,
            "grid_gap": null,
            "grid_row": null,
            "grid_template_areas": null,
            "grid_template_columns": null,
            "grid_template_rows": null,
            "height": null,
            "justify_content": null,
            "justify_items": null,
            "left": null,
            "margin": null,
            "max_height": null,
            "max_width": null,
            "min_height": null,
            "min_width": null,
            "object_fit": null,
            "object_position": null,
            "order": null,
            "overflow": null,
            "overflow_x": null,
            "overflow_y": null,
            "padding": null,
            "right": null,
            "top": null,
            "visibility": null,
            "width": null
          }
        },
        "955601e60280479984ccfe700b6b386a": {
          "model_module": "@jupyter-widgets/controls",
          "model_name": "ProgressStyleModel",
          "model_module_version": "1.5.0",
          "state": {
            "_model_module": "@jupyter-widgets/controls",
            "_model_module_version": "1.5.0",
            "_model_name": "ProgressStyleModel",
            "_view_count": null,
            "_view_module": "@jupyter-widgets/base",
            "_view_module_version": "1.2.0",
            "_view_name": "StyleView",
            "bar_color": null,
            "description_width": ""
          }
        },
        "c073341db6074f4a879fceb7a13e1505": {
          "model_module": "@jupyter-widgets/base",
          "model_name": "LayoutModel",
          "model_module_version": "1.2.0",
          "state": {
            "_model_module": "@jupyter-widgets/base",
            "_model_module_version": "1.2.0",
            "_model_name": "LayoutModel",
            "_view_count": null,
            "_view_module": "@jupyter-widgets/base",
            "_view_module_version": "1.2.0",
            "_view_name": "LayoutView",
            "align_content": null,
            "align_items": null,
            "align_self": null,
            "border": null,
            "bottom": null,
            "display": null,
            "flex": null,
            "flex_flow": null,
            "grid_area": null,
            "grid_auto_columns": null,
            "grid_auto_flow": null,
            "grid_auto_rows": null,
            "grid_column": null,
            "grid_gap": null,
            "grid_row": null,
            "grid_template_areas": null,
            "grid_template_columns": null,
            "grid_template_rows": null,
            "height": null,
            "justify_content": null,
            "justify_items": null,
            "left": null,
            "margin": null,
            "max_height": null,
            "max_width": null,
            "min_height": null,
            "min_width": null,
            "object_fit": null,
            "object_position": null,
            "order": null,
            "overflow": null,
            "overflow_x": null,
            "overflow_y": null,
            "padding": null,
            "right": null,
            "top": null,
            "visibility": null,
            "width": null
          }
        },
        "b1b1b1e1d2f347bbac60e1adfc01d69d": {
          "model_module": "@jupyter-widgets/controls",
          "model_name": "DescriptionStyleModel",
          "model_module_version": "1.5.0",
          "state": {
            "_model_module": "@jupyter-widgets/controls",
            "_model_module_version": "1.5.0",
            "_model_name": "DescriptionStyleModel",
            "_view_count": null,
            "_view_module": "@jupyter-widgets/base",
            "_view_module_version": "1.2.0",
            "_view_name": "StyleView",
            "description_width": ""
          }
        }
      }
    }
  },
  "cells": [
    {
      "cell_type": "code",
      "source": [
        "!pip install --upgrade pymatgen biopython mp-api"
      ],
      "metadata": {
        "id": "FSU3-k0LIAiy"
      },
      "execution_count": null,
      "outputs": []
    },
    {
      "cell_type": "code",
      "source": [
        "from mp_api.client import MPRester\n",
        "from pymatgen.core import Composition, Structure\n",
        "import re\n",
        "import os\n",
        "from Bio.Seq import Seq\n",
        "import requests\n",
        "from Bio.SeqUtils.ProtParam import ProteinAnalysis\n",
        "from Bio.ExPASy import get_sprot_raw\n",
        "from Bio.SwissProt import read\n",
        "from collections import Counter\n",
        "import itertools"
      ],
      "metadata": {
        "id": "Vwhsn4_1ILkl"
      },
      "execution_count": 19,
      "outputs": []
    },
    {
      "cell_type": "markdown",
      "source": [
        "# Часть 1: Материалы"
      ],
      "metadata": {
        "id": "KQzCX4GAHBFp"
      }
    },
    {
      "cell_type": "code",
      "source": [
        "# Загружаем API ключ\n",
        "api_key = os.environ.get(\"PMG_MAPI_KEY\")\n",
        "if not api_key:\n",
        "    api_key = input(\"Введите ваш API ключ от Materials Project: \")\n",
        "    os.environ[\"PMG_MAPI_KEY\"] = api_key\n",
        "\n",
        "with MPRester(api_key) as m:\n",
        "    # Поиск материала по формуле\n",
        "    docs = m.materials.summary.search(formula=\"MnFe2O4\", fields=[\"material_id\", \"formula_pretty\"])\n",
        "\n",
        "    if not docs:\n",
        "        raise ValueError(\"Материал MnFe2O4 не найден в базе Materials Project.\")\n",
        "\n",
        "    material_id = docs[0].material_id\n",
        "    print(f\"Найден материал: {docs[0].formula_pretty}, ID: {material_id}\")\n",
        "\n",
        "    # Загрузка структуры\n",
        "    structure = m.get_structure_by_material_id(material_id)\n",
        "    print(\" Структура успешно загружена!\")\n",
        "\n",
        "    # Анализ состава\n",
        "    composition = structure.composition\n",
        "    print(\"\\nСостав:\", composition)\n",
        "    print(\"Элементы:\", [el.symbol for el in composition.elements])\n",
        "\n",
        "    # Параметры решётки\n",
        "    lattice = structure.lattice\n",
        "    print(\"\\nПараметры решётки:\")\n",
        "    print(f\"a = {lattice.a:.4f} Å, b = {lattice.b:.4f} Å, c = {lattice.c:.4f} Å\")\n",
        "    print(f\"α = {lattice.alpha:.2f}°, β = {lattice.beta:.2f}°, γ = {lattice.gamma:.2f}°\")\n",
        "\n",
        "    # Плотность\n",
        "    density = structure.density\n",
        "    print(f\"\\nПлотность: {density:.4f} г/см³\")\n"
      ],
      "metadata": {
        "colab": {
          "base_uri": "https://localhost:8080/",
          "height": 272,
          "referenced_widgets": [
            "2612298635cb48869e6fe4ff4899429a",
            "90dca648479e4c7b82d63e12a8e05173",
            "963c45fb522e4d6fb6bf8bfacc80ba9b",
            "cdb3b9e5b7a248729024c7ae6d9dddd2",
            "f3ff67d5487341e386c57365e57edbf0",
            "8e1885eed834421b967a4389e6840f0f",
            "db189fe678e24a43896d0dfdab98cda3",
            "70cf461989234298810a00781abcd2ef",
            "04876bf2352e463a8f0b6ed3cb536f1a",
            "91e2c8517af7417abd7693621ad29a9d",
            "ed1653ab0e124f439bb6b92a2dc2fd10",
            "2657ef1c50a64a18951941870043c61a",
            "c29baee727494a6ebce130a9efbdb648",
            "ada45a774b9f41b0aa09fa37b1c968f4",
            "019bf304dbd2459296dfce64b16ab7b4",
            "1e0b1b8a334647fbb3b7ff04edd0a87a",
            "3a0a3ec4bcb24f1dac9deff325785126",
            "90ef13528303482099053bfd91c12bbc",
            "26aa50ebaefb46ecb24d6d6999ab6de8",
            "955601e60280479984ccfe700b6b386a",
            "c073341db6074f4a879fceb7a13e1505",
            "b1b1b1e1d2f347bbac60e1adfc01d69d"
          ]
        },
        "id": "_g4bSjdbb1wf",
        "outputId": "5b82f6ce-baeb-4630-d3a0-4f25d19ec502"
      },
      "execution_count": 7,
      "outputs": [
        {
          "output_type": "display_data",
          "data": {
            "text/plain": [
              "Retrieving SummaryDoc documents:   0%|          | 0/6 [00:00<?, ?it/s]"
            ],
            "application/vnd.jupyter.widget-view+json": {
              "version_major": 2,
              "version_minor": 0,
              "model_id": "2612298635cb48869e6fe4ff4899429a"
            }
          },
          "metadata": {}
        },
        {
          "output_type": "stream",
          "name": "stdout",
          "text": [
            "Найден материал: Mn(FeO2)2, ID: mp-697842\n"
          ]
        },
        {
          "output_type": "display_data",
          "data": {
            "text/plain": [
              "Retrieving MaterialsDoc documents:   0%|          | 0/1 [00:00<?, ?it/s]"
            ],
            "application/vnd.jupyter.widget-view+json": {
              "version_major": 2,
              "version_minor": 0,
              "model_id": "2657ef1c50a64a18951941870043c61a"
            }
          },
          "metadata": {}
        },
        {
          "output_type": "stream",
          "name": "stdout",
          "text": [
            " Структура успешно загружена!\n",
            "\n",
            "Состав: Mn10 Fe20 O40\n",
            "Элементы: ['Mn', 'Fe', 'O']\n",
            "\n",
            "Параметры решётки:\n",
            "a = 6.1505 Å, b = 6.1007 Å, c = 30.3960 Å\n",
            "α = 60.28°, β = 60.00°, γ = 59.84°\n",
            "\n",
            "Плотность: 4.7446 г/см³\n"
          ]
        }
      ]
    },
    {
      "cell_type": "markdown",
      "source": [
        "# Часть 2: Последовательности ДНК/РНК"
      ],
      "metadata": {
        "id": "nP6B9dCjHAbP"
      }
    },
    {
      "cell_type": "code",
      "source": [
        "# ДНК-последовательности\n",
        "sequences = {\n",
        "    \"BRCA1\": Seq(\"ATGGATTTATCTGCTCTTCGCGTTGAAGAAGTACAAAATGTCATTA\"),\n",
        "    \"TP53\": Seq(\"ATGGAAGCTCCCAGAATGCCAGAGGCTGCTCCCCCAGGGAGCACCT\")\n",
        "}\n",
        "\n",
        "for name, seq in sequences.items():\n",
        "    print(f\"\\n{name}: {seq}\")\n",
        "\n",
        "    # GC-состав\n",
        "    gc_content = 100 * (seq.count(\"G\") + seq.count(\"C\")) / len(seq)\n",
        "    print(f\"GC-состав: {gc_content:.2f}%\")\n",
        "\n",
        "    # Обратная комплементарная\n",
        "    rev_comp = seq.reverse_complement()\n",
        "    print(f\"Обратная комплементарная: {rev_comp}\")\n",
        "\n",
        "    # Транскрипция в РНК\n",
        "    rna = seq.transcribe()\n",
        "    print(f\"РНК: {rna}\")"
      ],
      "metadata": {
        "colab": {
          "base_uri": "https://localhost:8080/"
        },
        "id": "mf-CS68GeAqZ",
        "outputId": "cfb43b23-01b0-490a-9dda-c1283d90d47d"
      },
      "execution_count": 22,
      "outputs": [
        {
          "output_type": "stream",
          "name": "stdout",
          "text": [
            "\n",
            "BRCA1: ATGGATTTATCTGCTCTTCGCGTTGAAGAAGTACAAAATGTCATTA\n",
            "GC-состав: 34.78%\n",
            "Обратная комплементарная: TAATGACATTTTGTACTTCTTCAACGCGAAGAGCAGATAAATCCAT\n",
            "РНК: AUGGAUUUAUCUGCUCUUCGCGUUGAAGAAGUACAAAAUGUCAUUA\n",
            "\n",
            "TP53: ATGGAAGCTCCCAGAATGCCAGAGGCTGCTCCCCCAGGGAGCACCT\n",
            "GC-состав: 63.04%\n",
            "Обратная комплементарная: AGGTGCTCCCTGGGGGAGCAGCCTCTGGCATTCTGGGAGCTTCCAT\n",
            "РНК: AUGGAAGCUCCCAGAAUGCCAGAGGCUGCUCCCCCAGGGAGCACCU\n"
          ]
        }
      ]
    },
    {
      "cell_type": "markdown",
      "source": [
        "# Часть 3: Белки"
      ],
      "metadata": {
        "id": "0GeHdnXOHAk8"
      }
    },
    {
      "cell_type": "code",
      "source": [
        "# Получение данных по альфа-Амилазе (UniProt ID: P00691)\n",
        "handle = get_sprot_raw(\"P00691\")\n",
        "record = read(handle)\n",
        "aa_sequence = record.sequence\n",
        "\n",
        "print(f\"Последовательность амилазы:\\n{aa_sequence}\\n\")\n",
        "\n",
        "# Состав аминокислот\n",
        "aa_counts = Counter(aa_sequence)\n",
        "print(\"Состав аминокислот:\")\n",
        "for aa, count in sorted(aa_counts.items()):\n",
        "    print(f\"{aa}: {count}\")\n",
        "\n",
        "# Частоты дипептидов\n",
        "dipeptides = [aa_sequence[i:i+2] for i in range(len(aa_sequence)-1)]\n",
        "dipeptide_counts = Counter(dipeptides)\n",
        "\n",
        "print(\"\\nТоп-10 дипептидов:\")\n",
        "for dipep, count in dipeptide_counts.most_common(10):\n",
        "    print(f\"{dipep}: {count}\")"
      ],
      "metadata": {
        "colab": {
          "base_uri": "https://localhost:8080/"
        },
        "id": "yChc-idDlwnc",
        "outputId": "4e5bb0d4-877a-4f5c-f05e-259706636ae6"
      },
      "execution_count": 16,
      "outputs": [
        {
          "output_type": "stream",
          "name": "stdout",
          "text": [
            "Последовательность амилазы:\n",
            "MFAKRFKTSLLPLFAGFLLLFHLVLAGPAAASAETANKSNELTAPSIKSGTILHAWNWSFNTLKHNMKDIHDAGYTAIQTSPINQVKEGNQGDKSMSNWYWLYQPTSYQIGNRYLGTEQEFKEMCAAAEEYGIKVIVDAVINHTTSDYAAISNEVKSIPNWTHGNTQIKNWSDRWDVTQNSLLGLYDWNTQNTQVQSYLKRFLDRALNDGADGFRFDAAKHIELPDDGSYGSQFWPNITNTSAEFQYGEILQDSASRDAAYANYMDVTASNYGHSIRSALKNRNLGVSNISHYASDVSADKLVTWVESHDTYANDDEESTWMSDDDIRLGWAVIASRSGSTPLFFSRPEGGGNGVRFPGKSQIGDRGSALFEDQAITAVNRFHNVMAGQPEELSNPNGNNQIFMNQRGSHGVVLANAGSSSVSINTATKLPDGRYDNKAGAGSFQVNDGKLTGTINARSVAVLYPDDIAKAPHVFLENYKTGVTHSFNDQLTITLRADANTTKAVYQINNGPETAFKDGDQFTIGKGDPFGKTYTIMLKGTNSDGVTRTEKYSFVKRDPASAKTIGYQNPNHWSQVNAYIYKHDGSRVIELTGSWPGKPMTKNADGIYTLTLPADTDTTNAKVIFNNGSAQVPGQNQPGFDYVLNGLYNDSGLSGSLPH\n",
            "\n",
            "Состав аминокислот:\n",
            "A: 58\n",
            "C: 1\n",
            "D: 45\n",
            "E: 23\n",
            "F: 27\n",
            "G: 56\n",
            "H: 17\n",
            "I: 34\n",
            "K: 34\n",
            "L: 43\n",
            "M: 10\n",
            "N: 55\n",
            "P: 26\n",
            "Q: 28\n",
            "R: 22\n",
            "S: 56\n",
            "T: 49\n",
            "V: 33\n",
            "W: 14\n",
            "Y: 28\n",
            "\n",
            "Топ-10 дипептидов:\n",
            "GS: 11\n",
            "DG: 9\n",
            "SA: 8\n",
            "AG: 7\n",
            "AA: 7\n",
            "TA: 7\n",
            "NT: 7\n",
            "AS: 6\n",
            "SN: 6\n",
            "TI: 6\n"
          ]
        }
      ]
    }
  ]
}
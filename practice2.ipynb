{
  "nbformat": 4,
  "nbformat_minor": 0,
  "metadata": {
    "colab": {
      "provenance": []
    },
    "kernelspec": {
      "name": "python3",
      "display_name": "Python 3"
    },
    "language_info": {
      "name": "python"
    }
  },
  "cells": [
    {
      "cell_type": "code",
      "source": [
        "!pip install --upgrade pymatgen biopython mp-api"
      ],
      "metadata": {
        "id": "FSU3-k0LIAiy"
      },
      "execution_count": null,
      "outputs": []
    },
    {
      "cell_type": "code",
      "source": [
        "from mp_api.client import MPRester\n",
        "from pymatgen.core import Composition, Structure\n",
        "import re\n",
        "import os\n",
        "from Bio.Seq import Seq\n",
        "import requests\n",
        "from Bio.SeqUtils.ProtParam import ProteinAnalysis\n",
        "from Bio.ExPASy import get_sprot_raw\n",
        "from Bio.SwissProt import read\n",
        "from collections import Counter\n",
        "import itertools"
      ],
      "metadata": {
        "id": "Vwhsn4_1ILkl"
      },
      "execution_count": 19,
      "outputs": []
    },
    {
      "cell_type": "markdown",
      "source": [
        "# \u0427\u0430\u0441\u0442\u044c 1: \u041c\u0430\u0442\u0435\u0440\u0438\u0430\u043b\u044b"
      ],
      "metadata": {
        "id": "KQzCX4GAHBFp"
      }
    },
    {
      "cell_type": "code",
      "source": [
        "api_key = os.environ.get(\"PMG_MAPI_KEY\")\n",
        "\n",
        "if not api_key:\n",
        "    raise ValueError(\"\u041d\u0435 \u043d\u0430\u0439\u0434\u0435\u043d API \u043a\u043b\u044e\u0447 Materials Project. \u0423\u0441\u0442\u0430\u043d\u043e\u0432\u0438\u0442\u0435 PMG_MAPI_KEY \u0432 \u043f\u0435\u0440\u0435\u043c\u0435\u043d\u043d\u044b\u0445 \u043e\u043a\u0440\u0443\u0436\u0435\u043d\u0438\u044f.\")\n",
        "\n",
        "with MPRester(api_key) as m:\n",
        "    # \u041f\u043e\u0438\u0441\u043a \u043c\u0430\u0442\u0435\u0440\u0438\u0430\u043b\u0430 \u043f\u043e \u0444\u043e\u0440\u043c\u0443\u043b\u0435\n",
        "    docs = m.materials.summary.search(formula=\"MnFe2O4\", fields=[\"material_id\", \"formula_pretty\"])\n",
        "\n",
        "    if not docs:\n",
        "        raise ValueError(\"\u041c\u0430\u0442\u0435\u0440\u0438\u0430\u043b MnFe2O4 \u043d\u0435 \u043d\u0430\u0439\u0434\u0435\u043d \u0432 \u0431\u0430\u0437\u0435 Materials Project.\")\n",
        "\n",
        "    material_id = docs[0].material_id\n",
        "    print(f\"\u041d\u0430\u0439\u0434\u0435\u043d \u043c\u0430\u0442\u0435\u0440\u0438\u0430\u043b: {docs[0].formula_pretty}, ID: {material_id}\")\n",
        "\n",
        "    # \u0417\u0430\u0433\u0440\u0443\u0437\u043a\u0430 \u0441\u0442\u0440\u0443\u043a\u0442\u0443\u0440\u044b\n",
        "    structure = m.get_structure_by_material_id(material_id)\n",
        "    print(\"\u0421\u0442\u0440\u0443\u043a\u0442\u0443\u0440\u0430 \u0443\u0441\u043f\u0435\u0448\u043d\u043e \u0437\u0430\u0433\u0440\u0443\u0436\u0435\u043d\u0430!\")\n",
        "\n",
        "    # \u0410\u043d\u0430\u043b\u0438\u0437 \u0441\u043e\u0441\u0442\u0430\u0432\u0430\n",
        "    composition = structure.composition\n",
        "    print(\"\\n\u0421\u043e\u0441\u0442\u0430\u0432:\", composition)\n",
        "    print(\"\u042d\u043b\u0435\u043c\u0435\u043d\u0442\u044b:\", [el.symbol for el in composition.elements])\n",
        "\n",
        "    # \u041f\u0430\u0440\u0430\u043c\u0435\u0442\u0440\u044b \u0440\u0435\u0448\u0451\u0442\u043a\u0438\n",
        "    lattice = structure.lattice\n",
        "    print(\"\\n\u041f\u0430\u0440\u0430\u043c\u0435\u0442\u0440\u044b \u0440\u0435\u0448\u0451\u0442\u043a\u0438:\")\n",
        "    print(f\"a = {lattice.a:.4f} \u00c5, b = {lattice.b:.4f} \u00c5, c = {lattice.c:.4f} \u00c5\")\n",
        "    print(f\"\u03b1 = {lattice.alpha:.2f}\u00b0, \u03b2 = {lattice.beta:.2f}\u00b0, \u03b3 = {lattice.gamma:.2f}\u00b0\")\n",
        "\n",
        "    # \u041f\u043b\u043e\u0442\u043d\u043e\u0441\u0442\u044c\n",
        "    density = structure.density\n",
        "    print(f\"\\n\u041f\u043b\u043e\u0442\u043d\u043e\u0441\u0442\u044c: {density:.4f} \u0433/\u0441\u043c\u00b3\")\n"
      ],
      "metadata": {
        "colab": {
          "base_uri": "https://localhost:8080/",
          "height": 272,
          "referenced_widgets": [
            "ebc89f848705471bbabc1ea2b3d31637",
            "586ebf5b4e714a0d885a4407a4cd6c5c",
            "07c62081e8f14ce584b41aa90d0beeec",
            "41e3f8e40cf84112931e3e6c3f7889c3",
            "940ef05ce42f41768bd7e96ee4857639",
            "f0d1035876b744e898c54ef1bc371679",
            "98409ec1d99449b78784050cd50d150d",
            "4a0f20b27fe843808245c6f16a739250",
            "e6ff2fe9a8ba4623af1d03e6d5cfd589",
            "afecd0e97f0d458aadf3c207a2e67b1f",
            "abf16d636b2c46fd9bed6dbe84fe449a",
            "58455262d34241fca9a4e4fb858ab9d4",
            "6025239ba9ab457e9ba883a3a2ca1340",
            "5b29291c0e3643d281866ad3c07c3ad5",
            "939160c496bc47d7b401290f7abf9876",
            "8aaa35bb713d40888a5eaff83debea0a",
            "7de49da2066c4f158a4172556f67cf0c",
            "4c4e779ac2b2413cb505fb5869d487b9",
            "9f02f9b257a3413b8ffe89a8d40f9c2e",
            "f58ca9c43cda4789b19ce1d8553d20ad",
            "2c2465336f8f43ae9f3c8ba35cbe4ca9",
            "cf5fa00fd95945709e601340ff14b8e8"
          ]
        },
        "id": "qWpy0F7m6SSn",
        "outputId": "2ecf303a-5fba-4715-a163-fc1df57b45e1"
      },
      "execution_count": 27,
      "outputs": [
        {
          "output_type": "display_data",
          "data": {
            "text/plain": [
              "Retrieving SummaryDoc documents:   0%|          | 0/6 [00:00<?, ?it/s]"
            ],
            "application/vnd.jupyter.widget-view+json": {
              "version_major": 2,
              "version_minor": 0,
              "model_id": "ebc89f848705471bbabc1ea2b3d31637"
            }
          },
          "metadata": {}
        },
        {
          "output_type": "stream",
          "name": "stdout",
          "text": [
            "\u041d\u0430\u0439\u0434\u0435\u043d \u043c\u0430\u0442\u0435\u0440\u0438\u0430\u043b: Mn(FeO2)2, ID: mp-697842\n"
          ]
        },
        {
          "output_type": "display_data",
          "data": {
            "text/plain": [
              "Retrieving MaterialsDoc documents:   0%|          | 0/1 [00:00<?, ?it/s]"
            ],
            "application/vnd.jupyter.widget-view+json": {
              "version_major": 2,
              "version_minor": 0,
              "model_id": "58455262d34241fca9a4e4fb858ab9d4"
            }
          },
          "metadata": {}
        },
        {
          "output_type": "stream",
          "name": "stdout",
          "text": [
            "\u0421\u0442\u0440\u0443\u043a\u0442\u0443\u0440\u0430 \u0443\u0441\u043f\u0435\u0448\u043d\u043e \u0437\u0430\u0433\u0440\u0443\u0436\u0435\u043d\u0430!\n",
            "\n",
            "\u0421\u043e\u0441\u0442\u0430\u0432: Mn10 Fe20 O40\n",
            "\u042d\u043b\u0435\u043c\u0435\u043d\u0442\u044b: ['Mn', 'Fe', 'O']\n",
            "\n",
            "\u041f\u0430\u0440\u0430\u043c\u0435\u0442\u0440\u044b \u0440\u0435\u0448\u0451\u0442\u043a\u0438:\n",
            "a = 6.1505 \u00c5, b = 6.1007 \u00c5, c = 30.3960 \u00c5\n",
            "\u03b1 = 60.28\u00b0, \u03b2 = 60.00\u00b0, \u03b3 = 59.84\u00b0\n",
            "\n",
            "\u041f\u043b\u043e\u0442\u043d\u043e\u0441\u0442\u044c: 4.7446 \u0433/\u0441\u043c\u00b3\n"
          ]
        }
      ]
    },
    {
      "cell_type": "markdown",
      "source": [
        "# \u0427\u0430\u0441\u0442\u044c 2: \u041f\u043e\u0441\u043b\u0435\u0434\u043e\u0432\u0430\u0442\u0435\u043b\u044c\u043d\u043e\u0441\u0442\u0438 \u0414\u041d\u041a/\u0420\u041d\u041a"
      ],
      "metadata": {
        "id": "nP6B9dCjHAbP"
      }
    },
    {
      "cell_type": "code",
      "source": [
        "# \u0414\u041d\u041a-\u043f\u043e\u0441\u043b\u0435\u0434\u043e\u0432\u0430\u0442\u0435\u043b\u044c\u043d\u043e\u0441\u0442\u0438\n",
        "sequences = {\n",
        "    \"BRCA1\": Seq(\"ATGGATTTATCTGCTCTTCGCGTTGAAGAAGTACAAAATGTCATTA\"),\n",
        "    \"TP53\": Seq(\"ATGGAAGCTCCCAGAATGCCAGAGGCTGCTCCCCCAGGGAGCACCT\")\n",
        "}\n",
        "\n",
        "for name, seq in sequences.items():\n",
        "    print(f\"\\n{name}: {seq}\")\n",
        "\n",
        "    # GC-\u0441\u043e\u0441\u0442\u0430\u0432\n",
        "    gc_content = 100 * (seq.count(\"G\") + seq.count(\"C\")) / len(seq)\n",
        "    print(f\"GC-\u0441\u043e\u0441\u0442\u0430\u0432: {gc_content:.2f}%\")\n",
        "\n",
        "    # \u041e\u0431\u0440\u0430\u0442\u043d\u0430\u044f \u043a\u043e\u043c\u043f\u043b\u0435\u043c\u0435\u043d\u0442\u0430\u0440\u043d\u0430\u044f\n",
        "    rev_comp = seq.reverse_complement()\n",
        "    print(f\"\u041e\u0431\u0440\u0430\u0442\u043d\u0430\u044f \u043a\u043e\u043c\u043f\u043b\u0435\u043c\u0435\u043d\u0442\u0430\u0440\u043d\u0430\u044f: {rev_comp}\")\n",
        "\n",
        "    # \u0422\u0440\u0430\u043d\u0441\u043a\u0440\u0438\u043f\u0446\u0438\u044f \u0432 \u0420\u041d\u041a\n",
        "    rna = seq.transcribe()\n",
        "    print(f\"\u0420\u041d\u041a: {rna}\")"
      ],
      "metadata": {
        "colab": {
          "base_uri": "https://localhost:8080/"
        },
        "id": "mf-CS68GeAqZ",
        "outputId": "cfb43b23-01b0-490a-9dda-c1283d90d47d"
      },
      "execution_count": 22,
      "outputs": [
        {
          "output_type": "stream",
          "name": "stdout",
          "text": [
            "\n",
            "BRCA1: ATGGATTTATCTGCTCTTCGCGTTGAAGAAGTACAAAATGTCATTA\n",
            "GC-\u0441\u043e\u0441\u0442\u0430\u0432: 34.78%\n",
            "\u041e\u0431\u0440\u0430\u0442\u043d\u0430\u044f \u043a\u043e\u043c\u043f\u043b\u0435\u043c\u0435\u043d\u0442\u0430\u0440\u043d\u0430\u044f: TAATGACATTTTGTACTTCTTCAACGCGAAGAGCAGATAAATCCAT\n",
            "\u0420\u041d\u041a: AUGGAUUUAUCUGCUCUUCGCGUUGAAGAAGUACAAAAUGUCAUUA\n",
            "\n",
            "TP53: ATGGAAGCTCCCAGAATGCCAGAGGCTGCTCCCCCAGGGAGCACCT\n",
            "GC-\u0441\u043e\u0441\u0442\u0430\u0432: 63.04%\n",
            "\u041e\u0431\u0440\u0430\u0442\u043d\u0430\u044f \u043a\u043e\u043c\u043f\u043b\u0435\u043c\u0435\u043d\u0442\u0430\u0440\u043d\u0430\u044f: AGGTGCTCCCTGGGGGAGCAGCCTCTGGCATTCTGGGAGCTTCCAT\n",
            "\u0420\u041d\u041a: AUGGAAGCUCCCAGAAUGCCAGAGGCUGCUCCCCCAGGGAGCACCU\n"
          ]
        }
      ]
    },
    {
      "cell_type": "markdown",
      "source": [
        "# \u0427\u0430\u0441\u0442\u044c 3: \u0411\u0435\u043b\u043a\u0438"
      ],
      "metadata": {
        "id": "0GeHdnXOHAk8"
      }
    },
    {
      "cell_type": "code",
      "source": [
        "# \u041f\u043e\u043b\u0443\u0447\u0435\u043d\u0438\u0435 \u0434\u0430\u043d\u043d\u044b\u0445 \u043f\u043e \u0430\u043b\u044c\u0444\u0430-\u0410\u043c\u0438\u043b\u0430\u0437\u0435 (UniProt ID: P00691)\n",
        "handle = get_sprot_raw(\"P00691\")\n",
        "record = read(handle)\n",
        "aa_sequence = record.sequence\n",
        "\n",
        "print(f\"\u041f\u043e\u0441\u043b\u0435\u0434\u043e\u0432\u0430\u0442\u0435\u043b\u044c\u043d\u043e\u0441\u0442\u044c \u0430\u043c\u0438\u043b\u0430\u0437\u044b:\\n{aa_sequence}\\n\")\n",
        "\n",
        "# \u0421\u043e\u0441\u0442\u0430\u0432 \u0430\u043c\u0438\u043d\u043e\u043a\u0438\u0441\u043b\u043e\u0442\n",
        "aa_counts = Counter(aa_sequence)\n",
        "print(\"\u0421\u043e\u0441\u0442\u0430\u0432 \u0430\u043c\u0438\u043d\u043e\u043a\u0438\u0441\u043b\u043e\u0442:\")\n",
        "for aa, count in sorted(aa_counts.items()):\n",
        "    print(f\"{aa}: {count}\")\n",
        "\n",
        "# \u0427\u0430\u0441\u0442\u043e\u0442\u044b \u0434\u0438\u043f\u0435\u043f\u0442\u0438\u0434\u043e\u0432\n",
        "dipeptides = [aa_sequence[i:i+2] for i in range(len(aa_sequence)-1)]\n",
        "dipeptide_counts = Counter(dipeptides)\n",
        "\n",
        "print(\"\\n\u0422\u043e\u043f-10 \u0434\u0438\u043f\u0435\u043f\u0442\u0438\u0434\u043e\u0432:\")\n",
        "for dipep, count in dipeptide_counts.most_common(10):\n",
        "    print(f\"{dipep}: {count}\")"
      ],
      "metadata": {
        "colab": {
          "base_uri": "https://localhost:8080/"
        },
        "id": "yChc-idDlwnc",
        "outputId": "4e5bb0d4-877a-4f5c-f05e-259706636ae6"
      },
      "execution_count": 16,
      "outputs": [
        {
          "output_type": "stream",
          "name": "stdout",
          "text": [
            "\u041f\u043e\u0441\u043b\u0435\u0434\u043e\u0432\u0430\u0442\u0435\u043b\u044c\u043d\u043e\u0441\u0442\u044c \u0430\u043c\u0438\u043b\u0430\u0437\u044b:\n",
            "MFAKRFKTSLLPLFAGFLLLFHLVLAGPAAASAETANKSNELTAPSIKSGTILHAWNWSFNTLKHNMKDIHDAGYTAIQTSPINQVKEGNQGDKSMSNWYWLYQPTSYQIGNRYLGTEQEFKEMCAAAEEYGIKVIVDAVINHTTSDYAAISNEVKSIPNWTHGNTQIKNWSDRWDVTQNSLLGLYDWNTQNTQVQSYLKRFLDRALNDGADGFRFDAAKHIELPDDGSYGSQFWPNITNTSAEFQYGEILQDSASRDAAYANYMDVTASNYGHSIRSALKNRNLGVSNISHYASDVSADKLVTWVESHDTYANDDEESTWMSDDDIRLGWAVIASRSGSTPLFFSRPEGGGNGVRFPGKSQIGDRGSALFEDQAITAVNRFHNVMAGQPEELSNPNGNNQIFMNQRGSHGVVLANAGSSSVSINTATKLPDGRYDNKAGAGSFQVNDGKLTGTINARSVAVLYPDDIAKAPHVFLENYKTGVTHSFNDQLTITLRADANTTKAVYQINNGPETAFKDGDQFTIGKGDPFGKTYTIMLKGTNSDGVTRTEKYSFVKRDPASAKTIGYQNPNHWSQVNAYIYKHDGSRVIELTGSWPGKPMTKNADGIYTLTLPADTDTTNAKVIFNNGSAQVPGQNQPGFDYVLNGLYNDSGLSGSLPH\n",
            "\n",
            "\u0421\u043e\u0441\u0442\u0430\u0432 \u0430\u043c\u0438\u043d\u043e\u043a\u0438\u0441\u043b\u043e\u0442:\n",
            "A: 58\n",
            "C: 1\n",
            "D: 45\n",
            "E: 23\n",
            "F: 27\n",
            "G: 56\n",
            "H: 17\n",
            "I: 34\n",
            "K: 34\n",
            "L: 43\n",
            "M: 10\n",
            "N: 55\n",
            "P: 26\n",
            "Q: 28\n",
            "R: 22\n",
            "S: 56\n",
            "T: 49\n",
            "V: 33\n",
            "W: 14\n",
            "Y: 28\n",
            "\n",
            "\u0422\u043e\u043f-10 \u0434\u0438\u043f\u0435\u043f\u0442\u0438\u0434\u043e\u0432:\n",
            "GS: 11\n",
            "DG: 9\n",
            "SA: 8\n",
            "AG: 7\n",
            "AA: 7\n",
            "TA: 7\n",
            "NT: 7\n",
            "AS: 6\n",
            "SN: 6\n",
            "TI: 6\n"
          ]
        }
      ]
    }
  ]
}